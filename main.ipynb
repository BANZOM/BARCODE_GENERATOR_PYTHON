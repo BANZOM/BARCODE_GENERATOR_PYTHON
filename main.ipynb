{
  "nbformat": 4,
  "nbformat_minor": 0,
  "metadata": {
    "colab": {
      "name": "barcodebyPython.ipynb",
      "provenance": [],
      "authorship_tag": "ABX9TyP1+NwEGObqIWk6B+tLEosb",
      "include_colab_link": true
    },
    "kernelspec": {
      "name": "python3",
      "display_name": "Python 3"
    },
    "language_info": {
      "name": "python"
    }
  },
  "cells": [
    {
      "cell_type": "markdown",
      "metadata": {
        "id": "view-in-github",
        "colab_type": "text"
      },
      "source": [
        "<a href=\"https://colab.research.google.com/github/BANZOM/BARCODE_GENERATOR_PYTHON/blob/main/main.ipynb\" target=\"_parent\"><img src=\"https://colab.research.google.com/assets/colab-badge.svg\" alt=\"Open In Colab\"/></a>"
      ]
    },
    {
      "cell_type": "markdown",
      "source": [
        "creating a barcode"
      ],
      "metadata": {
        "id": "bBeL01ZprRsX"
      }
    },
    {
      "cell_type": "code",
      "execution_count": 14,
      "metadata": {
        "colab": {
          "base_uri": "https://localhost:8080/"
        },
        "id": "uQDd9-HGrH9S",
        "outputId": "21743168-ce55-419f-db7f-8b3292beb25f"
      },
      "outputs": [
        {
          "output_type": "stream",
          "name": "stdout",
          "text": [
            "Looking in indexes: https://pypi.org/simple, https://us-python.pkg.dev/colab-wheels/public/simple/\n",
            "Requirement already satisfied: python-barcode in /usr/local/lib/python3.7/dist-packages (0.14.0)\n"
          ]
        }
      ],
      "source": [
        "# installing module\n",
        "\n",
        "!pip install python-barcode"
      ]
    },
    {
      "cell_type": "code",
      "source": [
        "# importing modules\n",
        "\n",
        "import barcode \n",
        "from barcode.writer import ImageWriter as ImgGen"
      ],
      "metadata": {
        "id": "jpTCrCpisM2l"
      },
      "execution_count": 15,
      "outputs": []
    },
    {
      "cell_type": "code",
      "source": [
        "num_of_barcodes = int(input(\"Write how many barcodes you need to genetate: \"))"
      ],
      "metadata": {
        "colab": {
          "base_uri": "https://localhost:8080/"
        },
        "id": "vo_v1fdzthvW",
        "outputId": "398c8b11-1f1d-4c21-e8ae-0e9c61a95738"
      },
      "execution_count": 16,
      "outputs": [
        {
          "name": "stdout",
          "output_type": "stream",
          "text": [
            "Write how many barcodes you need to genetate: 2\n"
          ]
        }
      ]
    },
    {
      "cell_type": "code",
      "source": [
        "for i in range(num_of_barcodes):\n",
        "    PB = barcode.get_barcode_class('ean13')\n",
        "    id_num = input(\"Enter 12-Digit Barcode ID: \")\n",
        "    barcode_img= PB( id_num , writer= ImgGen() )\n",
        "    barcode_name = input(\"Specify the name of the generated barcode: \")\n",
        "    barcode_img.save (barcode_name)\n",
        "\n",
        "print(\"Executed Successfully, Your Barcodes are Saved in the Same directory. Thank You From Aditya\")"
      ],
      "metadata": {
        "colab": {
          "base_uri": "https://localhost:8080/"
        },
        "id": "ySXHB_UNtyrQ",
        "outputId": "917a28e7-43a7-476f-eb20-c4824a2f916c"
      },
      "execution_count": 18,
      "outputs": [
        {
          "output_type": "stream",
          "name": "stdout",
          "text": [
            "Enter 12-Digit Barcode ID: 159263478159\n",
            "Specify the name of the generated barcode: barcode1\n",
            "Enter 12-Digit Barcode ID: 222555666111\n",
            "Specify the name of the generated barcode: barcode2\n",
            "Executed Successfully, Your Barcodes are Saved in the Same directory. Thank You From Aditya\n"
          ]
        }
      ]
    }
  ]
}